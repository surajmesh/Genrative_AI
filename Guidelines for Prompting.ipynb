{
 "cells": [
  {
   "cell_type": "code",
   "execution_count": 2,
   "id": "e1c360ed",
   "metadata": {},
   "outputs": [],
   "source": [
    "import openai\n",
    "import os\n",
    "from openai import OpenAI"
   ]
  },
  {
   "cell_type": "code",
   "execution_count": 3,
   "id": "5987c1b6",
   "metadata": {
    "scrolled": true
   },
   "outputs": [
    {
     "name": "stdout",
     "output_type": "stream",
     "text": [
      "1.5.0\n"
     ]
    }
   ],
   "source": [
    "import openai\n",
    "print(openai.__version__)"
   ]
  },
  {
   "cell_type": "code",
   "execution_count": 4,
   "id": "b3d44cfe",
   "metadata": {},
   "outputs": [],
   "source": [
    "# Access the API key from the environment variable\n",
    "client = OpenAI(api_key=os.environ.get(\"OPENAI_API_KEY\"),)"
   ]
  },
  {
   "cell_type": "code",
   "execution_count": 5,
   "id": "ba607ba3",
   "metadata": {},
   "outputs": [],
   "source": [
    "# define function for chat completion\n",
    "def get_completion(prompt , model = \"gpt-3.5-turbo\"):\n",
    "    messages = [{\"role\":\"user\" , \"content\":prompt}]\n",
    "    \n",
    "    response = client.chat.completions.create(\n",
    "        messages= messages,\n",
    "        model= model,\n",
    "        temperature= 0\n",
    "    )\n",
    "    \n",
    "    return response.choices[0].message.content"
   ]
  },
  {
   "cell_type": "markdown",
   "id": "dc257982",
   "metadata": {},
   "source": [
    "### Principal : 1 writte prompt clear and specific instruction to Model ###"
   ]
  },
  {
   "cell_type": "markdown",
   "id": "735af81f",
   "metadata": {},
   "source": [
    "### Use Delimitter ###"
   ]
  },
  {
   "cell_type": "code",
   "execution_count": 6,
   "id": "5165dca5",
   "metadata": {},
   "outputs": [],
   "source": [
    "text = f\"\"\"\n",
    "The term business model refers to a company's plan for making a profit.\\ \n",
    "It identifies the products or services the business plans to sell, its identified target market,\\\n",
    "and any anticipated expenses.Business models are important for both new and established businesses.\\ \n",
    "They help new, developing companies attract investment, recruit talent, and motivate management and staff.\\\n",
    "Established businesses should regularly update their business model or they'll fail to anticipate trends\\ \n",
    "and challenges ahead. Business models also help investors evaluate companies that interest them\\ \n",
    "and employees understand the future of a company they may aspire to join.\n",
    "\"\"\"\n",
    "\n",
    "prompt = f\"\"\"\n",
    "Summarize the text delimited by triple backticks \\ \n",
    "into a single sentence.\n",
    "```{text}```\n",
    "\"\"\""
   ]
  },
  {
   "cell_type": "code",
   "execution_count": 7,
   "id": "6c902b9c",
   "metadata": {},
   "outputs": [
    {
     "name": "stdout",
     "output_type": "stream",
     "text": [
      "The text explains that a business model is a company's plan for making a profit, which includes identifying products or services, target market, and expenses, and it is important for attracting investment, recruiting talent, motivating staff, anticipating trends and challenges, evaluating companies for investors, and understanding the future for employees.\n"
     ]
    }
   ],
   "source": [
    "response = get_completion(prompt)\n",
    "print(response)"
   ]
  },
  {
   "cell_type": "markdown",
   "id": "79320812",
   "metadata": {},
   "source": [
    "### Ask for Strutured output ###"
   ]
  },
  {
   "cell_type": "code",
   "execution_count": 87,
   "id": "e69f1968",
   "metadata": {},
   "outputs": [],
   "source": [
    "prompt = f\"\"\"\n",
    "Generate a list of three made-up  indian book titles along \\ \n",
    "with their authors and genres. \n",
    "Provide them in JSON format with the following keys: \n",
    "book_id, title, author, genre.\n",
    "\"\"\"\n",
    "\n",
    "response = get_completion(prompt)"
   ]
  },
  {
   "cell_type": "code",
   "execution_count": 88,
   "id": "00494c53",
   "metadata": {},
   "outputs": [
    {
     "name": "stdout",
     "output_type": "stream",
     "text": [
      "{\n",
      "  \"books\": [\n",
      "    {\n",
      "      \"book_id\": 1,\n",
      "      \"title\": \"The Secret of the Taj\",\n",
      "      \"author\": \"Rajesh Sharma\",\n",
      "      \"genre\": \"Mystery\"\n",
      "    },\n",
      "    {\n",
      "      \"book_id\": 2,\n",
      "      \"title\": \"The Palace of Dreams\",\n",
      "      \"author\": \"Ananya Patel\",\n",
      "      \"genre\": \"Fantasy\"\n",
      "    },\n",
      "    {\n",
      "      \"book_id\": 3,\n",
      "      \"title\": \"The Saffron Revolution\",\n",
      "      \"author\": \"Amita Singh\",\n",
      "      \"genre\": \"Historical Fiction\"\n",
      "    }\n",
      "  ]\n",
      "}\n"
     ]
    }
   ],
   "source": [
    "print(response)"
   ]
  },
  {
   "cell_type": "markdown",
   "id": "de3cf607",
   "metadata": {},
   "source": [
    "### Ask the model to check whether conditions are satisfied ###"
   ]
  },
  {
   "cell_type": "code",
   "execution_count": 89,
   "id": "3c8095f5",
   "metadata": {},
   "outputs": [],
   "source": [
    "text_1 = f\"\"\"\n",
    "Making a cup of tea is easy! First, you need to get some \\ \n",
    "water boiling. While that's happening, \\ \n",
    "grab a cup and put a tea bag in it. Once the water is \\ \n",
    "hot enough, just pour it over the tea bag. \\ \n",
    "Let it sit for a bit so the tea can steep. After a \\ \n",
    "few minutes, take out the tea bag. If you \\ \n",
    "like, you can add some sugar or milk to taste. \\ \n",
    "And that's it! You've got yourself a delicious \\ \n",
    "cup of tea to enjoy.\n",
    "\"\"\""
   ]
  },
  {
   "cell_type": "code",
   "execution_count": 91,
   "id": "f6a63aee",
   "metadata": {},
   "outputs": [],
   "source": [
    "prompt = f\"\"\"\n",
    "You will be provided with text delimited by triple quotes. \n",
    "If it contains a sequence of instructions, \\ \n",
    "re-write those instructions in the following format:\n",
    "\n",
    "Step 1 - ...\n",
    "Step 2 - …\n",
    "…\n",
    "Step N - …\n",
    "\n",
    "If the text does not contain a sequence of instructions, \\ \n",
    "then simply write \\\"No steps provided.\\\"\n",
    "\n",
    "\\\"\\\"\\\"{text_1}\\\"\\\"\\\"\n",
    "\"\"\""
   ]
  },
  {
   "cell_type": "code",
   "execution_count": 94,
   "id": "b65ccad7",
   "metadata": {
    "scrolled": true
   },
   "outputs": [
    {
     "name": "stdout",
     "output_type": "stream",
     "text": [
      "Completion for Text 1:\n",
      "Step 1 - Get some water boiling.\n",
      "Step 2 - Grab a cup and put a tea bag in it.\n",
      "Step 3 - Once the water is hot enough, pour it over the tea bag.\n",
      "Step 4 - Let it sit for a bit so the tea can steep.\n",
      "Step 5 - After a few minutes, take out the tea bag.\n",
      "Step 6 - If you like, add some sugar or milk to taste.\n",
      "Step 7 - Enjoy your delicious cup of tea.\n"
     ]
    }
   ],
   "source": [
    "response = get_completion(prompt)\n",
    "print(\"Completion for Text 1:\")\n",
    "print(response)"
   ]
  },
  {
   "cell_type": "code",
   "execution_count": 95,
   "id": "854a8f13",
   "metadata": {},
   "outputs": [],
   "source": [
    "text_2 =  f\"\"\"\n",
    "The term business model refers to a company's plan for making a profit.\\ \n",
    "It identifies the products or services the business plans to sell, its identified target market,\\\n",
    "and any anticipated expenses.Business models are important for both new and established businesses.\\ \n",
    "They help new, developing companies attract investment, recruit talent, and motivate management and staff.\\\n",
    "Established businesses should regularly update their business model or they'll fail to anticipate trends\\ \n",
    "and challenges ahead. Business models also help investors evaluate companies that interest them\\ \n",
    "and employees understand the future of a company they may aspire to join.\n",
    "\"\"\"\n",
    "\n",
    "prompt = f\"\"\"\n",
    "You will be provided with text delimited by triple quotes. \n",
    "If it contains a sequence of instructions, \\ \n",
    "re-write those instructions in the following format:\n",
    "\n",
    "Step 1 - ...\n",
    "Step 2 - …\n",
    "…\n",
    "Step N - …\n",
    "\n",
    "If the text does not contain a sequence of instructions, \\ \n",
    "then simply write \\\"No steps provided.\\\"\n",
    "\n",
    "\\\"\\\"\\\"{text_2}\\\"\\\"\\\"\n",
    "\"\"\""
   ]
  },
  {
   "cell_type": "code",
   "execution_count": 96,
   "id": "1fa84d61",
   "metadata": {},
   "outputs": [
    {
     "name": "stdout",
     "output_type": "stream",
     "text": [
      "Completion for Text 1:\n",
      "No steps provided.\n"
     ]
    }
   ],
   "source": [
    "response = get_completion(prompt)\n",
    "print(\"Completion for Text 1:\")\n",
    "print(response)"
   ]
  },
  {
   "cell_type": "markdown",
   "id": "9792cf59",
   "metadata": {},
   "source": [
    " ### \"Few-shot\" prompting ###"
   ]
  },
  {
   "cell_type": "code",
   "execution_count": 98,
   "id": "e9972cf2",
   "metadata": {},
   "outputs": [
    {
     "name": "stdout",
     "output_type": "stream",
     "text": [
      "Hi, Mike! I'm glad to hear that you're enjoying your internship at the publishing house. As for me, I'm doing well. I've been busy with my studies and also working part-time at a local bookstore.\n"
     ]
    }
   ],
   "source": [
    "prompt = f\"\"\"\n",
    "Your task is to answer in a consistent style.\n",
    "\n",
    "<Sam> : Hello, Mike! How are you doing these days?\n",
    "<Mike> : Hi, Sam! I’m fine, thanks! I’m doing an internship at one publishing house.\n",
    "<Sam> : Oh, really? Are you enjoying it?\n",
    "<Mike> :Yeah, I’m learning a lot of small but crucial details. How about you?\n",
    "<Sam> : \n",
    "\n",
    "\"\"\"\n",
    "response = get_completion(prompt)\n",
    "print(response)"
   ]
  },
  {
   "cell_type": "markdown",
   "id": "ee137406",
   "metadata": {},
   "source": [
    "### Principal : 2 To give model time to Think ###"
   ]
  },
  {
   "cell_type": "markdown",
   "id": "6ca455b4",
   "metadata": {},
   "source": [
    "### Specify the steps to complete task  ###"
   ]
  },
  {
   "cell_type": "code",
   "execution_count": 8,
   "id": "6dfacecd",
   "metadata": {},
   "outputs": [],
   "source": [
    "text = f\"\"\"\n",
    "In a charming village, siblings Jack and Jill set out on \\ \n",
    "a quest to fetch water from a hilltop \\ \n",
    "well. As they climbed, singing joyfully, misfortune \\ \n",
    "struck—Jack tripped on a stone and tumbled \\ \n",
    "down the hill, with Jill following suit. \\ \n",
    "Though slightly battered, the pair returned home to \\ \n",
    "comforting embraces. Despite the mishap, \\ \n",
    "their adventurous spirits remained undimmed, and they \\ \n",
    "continued exploring with delight.\n",
    "\"\"\"\n",
    "# example 1\n",
    "prompt_1 = f\"\"\"\n",
    "Perform the following actions: \n",
    "1 - Summarize the following text delimited by triple \\\n",
    "backticks with 1 sentence.\n",
    "2 - Translate the summary into French.\n",
    "3 - List each name in the French summary.\n",
    "4 - Output a json object that contains the following \\\n",
    "keys: french_summary, num_names.\n",
    "\n",
    "Separate your answers with line breaks.\n",
    "\n",
    "Text:\n",
    "```{text}```\n",
    "\"\"\"\n"
   ]
  },
  {
   "cell_type": "code",
   "execution_count": 9,
   "id": "e36f6665",
   "metadata": {},
   "outputs": [
    {
     "name": "stdout",
     "output_type": "stream",
     "text": [
      "Completion for prompt 1:\n",
      "1 - Jack and Jill, siblings, go on a quest to fetch water from a hilltop well, but encounter misfortune when Jack trips on a stone and tumbles down the hill, with Jill following suit, yet they return home and remain undeterred in their adventurous spirits.\n",
      "\n",
      "2 - Jack et Jill, frère et sœur, partent en quête d'eau d'un puits au sommet d'une colline, mais rencontrent un malheur lorsque Jack trébuche sur une pierre et dévale la colline, suivi par Jill, pourtant ils rentrent chez eux et restent déterminés dans leur esprit d'aventure.\n",
      "\n",
      "3 - Jack, Jill\n",
      "\n",
      "4 - {\n",
      "  \"french_summary\": \"Jack et Jill, frère et sœur, partent en quête d'eau d'un puits au sommet d'une colline, mais rencontrent un malheur lorsque Jack trébuche sur une pierre et dévale la colline, suivi par Jill, pourtant ils rentrent chez eux et restent déterminés dans leur esprit d'aventure.\",\n",
      "  \"num_names\": 2\n",
      "}\n"
     ]
    }
   ],
   "source": [
    "response = get_completion(prompt_1)\n",
    "print(\"Completion for prompt 1:\")\n",
    "print(response)"
   ]
  },
  {
   "cell_type": "markdown",
   "id": "201bdbdd",
   "metadata": {},
   "source": [
    "### Instruct the model to work out its own solution before rushing to a conclusion ###"
   ]
  },
  {
   "cell_type": "code",
   "execution_count": 117,
   "id": "04568118",
   "metadata": {},
   "outputs": [
    {
     "name": "stdout",
     "output_type": "stream",
     "text": [
      "The student's solution is incorrect.\n",
      "\n",
      "Actual solution:\n",
      "To determine if 53 is a prime number, we need to check if it is divisible by any number other than 1 and itself.\n",
      "\n",
      "We can start by checking if 53 is divisible by any prime numbers less than its square root, which is approximately 7.28. \n",
      "\n",
      "Checking divisibility by prime numbers less than 7.28:\n",
      "- 53 is not divisible by 2.\n",
      "- 53 is not divisible by 3.\n",
      "- 53 is not divisible by 5.\n",
      "- 53 is not divisible by 7.\n",
      "\n",
      "Since 53 is not divisible by any prime numbers less than its square root, we can conclude that 53 is a prime number.\n",
      "\n",
      "Therefore, the actual solution is that 53 is a prime number.\n"
     ]
    }
   ],
   "source": [
    "prompt = f\"\"\"\n",
    "Determine if the student's solution is correct or Not and writte  actual solution with prime number series upto 60.\n",
    "\n",
    "\n",
    "Question:\n",
    "Find if 53 is a prime number or not.\n",
    "\n",
    "Student's Solution:\n",
    "53 is a not prime number.\n",
    "\n",
    "perform task in following steps:\n",
    "\n",
    "Student's Solution: Correct or Incorrect\n",
    "Actual solution:\n",
    "\n",
    "\"\"\"\n",
    "response = get_completion(prompt)\n",
    "print(response)"
   ]
  },
  {
   "cell_type": "code",
   "execution_count": null,
   "id": "25044b09",
   "metadata": {},
   "outputs": [],
   "source": []
  },
  {
   "cell_type": "code",
   "execution_count": null,
   "id": "d3781d16",
   "metadata": {},
   "outputs": [],
   "source": []
  },
  {
   "cell_type": "code",
   "execution_count": null,
   "id": "da38be29",
   "metadata": {},
   "outputs": [],
   "source": []
  }
 ],
 "metadata": {
  "kernelspec": {
   "display_name": "Python 3 (ipykernel)",
   "language": "python",
   "name": "python3"
  },
  "language_info": {
   "codemirror_mode": {
    "name": "ipython",
    "version": 3
   },
   "file_extension": ".py",
   "mimetype": "text/x-python",
   "name": "python",
   "nbconvert_exporter": "python",
   "pygments_lexer": "ipython3",
   "version": "3.10.0"
  }
 },
 "nbformat": 4,
 "nbformat_minor": 5
}
